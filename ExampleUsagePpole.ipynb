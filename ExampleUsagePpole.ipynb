{
 "cells": [
  {
   "cell_type": "code",
   "execution_count": 1,
   "id": "5ec795e2-6a02-4be6-8b3c-7ef4aa287a34",
   "metadata": {},
   "outputs": [
    {
     "name": "stderr",
     "output_type": "stream",
     "text": [
      "/Users/s1522100/Documents/PhD/GitHub/Choroidalyzer/choroidalyze/ppole/ppole_map.py:8: TqdmExperimentalWarning: Using `tqdm.autonotebook.tqdm` in notebook mode. Use `tqdm.tqdm` instead to force console mode (e.g. in jupyter console)\n",
      "  from tqdm.autonotebook import tqdm\n"
     ]
    }
   ],
   "source": [
    "from choroidalyze import Choroidalyzer\n",
    "\n",
    "# This initialises choroidalyzer. \n",
    "# It will try to automatically download the model weights from github the first time you run it. \n",
    "choroidalyzer = Choroidalyzer(device='mps')"
   ]
  },
  {
   "cell_type": "code",
   "execution_count": 2,
   "id": "db24f81f-25af-441d-bfce-943292fee300",
   "metadata": {
    "scrolled": true
   },
   "outputs": [
    {
     "name": "stderr",
     "output_type": "stream",
     "text": [
      "                                                                                        "
     ]
    },
    {
     "name": "stdout",
     "output_type": "stream",
     "text": [
      "Computing and measuring choroid thickness, volume and vessel maps...\n",
      "    choroid_thickness map\n"
     ]
    },
    {
     "name": "stderr",
     "output_type": "stream",
     "text": [
      "WARNING:root:0.25% missing values in outer_nasal region in ETDRS grid. Interpolating using nearest neighbour.\n"
     ]
    },
    {
     "name": "stdout",
     "output_type": "stream",
     "text": [
      "    choroid_vessel map\n"
     ]
    },
    {
     "name": "stderr",
     "output_type": "stream",
     "text": [
      "WARNING:root:0.25% missing values in outer_nasal region in ETDRS grid. Interpolating using nearest neighbour.\n"
     ]
    },
    {
     "data": {
      "text/plain": [
       "{'choroid_thickness_[um]': {'central': 289,\n",
       "  'inner_superior': 290,\n",
       "  'inner_temporal': 273,\n",
       "  'inner_inferior': 280,\n",
       "  'inner_nasal': 259,\n",
       "  'outer_superior': 284,\n",
       "  'outer_temporal': 266,\n",
       "  'outer_inferior': 238,\n",
       "  'outer_nasal': 231,\n",
       "  'all': 260},\n",
       " 'choroid_vessel_area_[um2]': {'central': 1905,\n",
       "  'inner_superior': 1889,\n",
       "  'inner_temporal': 1769,\n",
       "  'inner_inferior': 1744,\n",
       "  'inner_nasal': 1349,\n",
       "  'outer_superior': 1739,\n",
       "  'outer_temporal': 1433,\n",
       "  'outer_inferior': 1406,\n",
       "  'outer_nasal': 1166,\n",
       "  'all': 1505},\n",
       " 'choroid_CVI': {'central': 0.565,\n",
       "  'inner_superior': 0.555,\n",
       "  'inner_temporal': 0.551,\n",
       "  'inner_inferior': 0.533,\n",
       "  'inner_nasal': 0.443,\n",
       "  'outer_superior': 0.515,\n",
       "  'outer_temporal': 0.456,\n",
       "  'outer_inferior': 0.497,\n",
       "  'outer_nasal': 0.422,\n",
       "  'all': 0.485},\n",
       " 'choroid_volume_[mm3]': {'central': 0.232,\n",
       "  'inner_superior': 0.46,\n",
       "  'inner_temporal': 0.432,\n",
       "  'inner_inferior': 0.441,\n",
       "  'inner_nasal': 0.409,\n",
       "  'outer_superior': 1.522,\n",
       "  'outer_temporal': 1.422,\n",
       "  'outer_inferior': 1.27,\n",
       "  'outer_nasal': 1.234,\n",
       "  'all': 7.42},\n",
       " 'choroid_vessel_volume_[mm3]': {'central': 0.133,\n",
       "  'inner_superior': 0.261,\n",
       "  'inner_temporal': 0.243,\n",
       "  'inner_inferior': 0.238,\n",
       "  'inner_nasal': 0.185,\n",
       "  'outer_superior': 0.81,\n",
       "  'outer_temporal': 0.666,\n",
       "  'outer_inferior': 0.652,\n",
       "  'outer_nasal': 0.542,\n",
       "  'all': 3.729}}"
      ]
     },
     "execution_count": 2,
     "metadata": {},
     "output_type": "execute_result"
    }
   ],
   "source": [
    "# Unzip ppole.zip in example_data first before running this cell\n",
    "choroidalyzer.analyze_ppole(\"example_data/ppole\")"
   ]
  },
  {
   "cell_type": "code",
   "execution_count": null,
   "id": "9c7525ea-a940-4fd7-bd01-2a4126e1fe60",
   "metadata": {},
   "outputs": [],
   "source": []
  }
 ],
 "metadata": {
  "kernelspec": {
   "display_name": "Python 3 (ipykernel)",
   "language": "python",
   "name": "python3"
  },
  "language_info": {
   "codemirror_mode": {
    "name": "ipython",
    "version": 3
   },
   "file_extension": ".py",
   "mimetype": "text/x-python",
   "name": "python",
   "nbconvert_exporter": "python",
   "pygments_lexer": "ipython3",
   "version": "3.12.8"
  }
 },
 "nbformat": 4,
 "nbformat_minor": 5
}
